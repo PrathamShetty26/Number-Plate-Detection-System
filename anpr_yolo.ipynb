{
 "cells": [
  {
   "cell_type": "code",
   "execution_count": 1,
   "metadata": {},
   "outputs": [
    {
     "name": "stdout",
     "output_type": "stream",
     "text": [
      "Name: opencv-python\n",
      "Version: 4.6.0.66\n",
      "Summary: Wrapper package for OpenCV python bindings.\n",
      "Home-page: https://github.com/skvark/opencv-python\n",
      "Author: \n",
      "Author-email: \n",
      "License: MIT\n",
      "Location: c:\\users\\lenovo\\anaconda3\\lib\\site-packages\n",
      "Requires: numpy, numpy, numpy\n",
      "Required-by: imgaug, paddlehub, paddleocr, pdf2docx\n"
     ]
    }
   ],
   "source": [
    "!pip show opencv-python"
   ]
  },
  {
   "cell_type": "code",
   "execution_count": 2,
   "metadata": {},
   "outputs": [
    {
     "name": "stdout",
     "output_type": "stream",
     "text": [
      "Collecting paddlepaddle\n",
      "  Downloading paddlepaddle-2.4.2-cp39-cp39-win_amd64.whl (68.6 MB)\n",
      "     ---------------------------------------- 68.6/68.6 MB 4.1 MB/s eta 0:00:00\n",
      "Requirement already satisfied: six in c:\\users\\lenovo\\anaconda3\\lib\\site-packages (from paddlepaddle) (1.16.0)\n",
      "Requirement already satisfied: numpy>=1.13 in c:\\users\\lenovo\\anaconda3\\lib\\site-packages (from paddlepaddle) (1.21.5)\n",
      "Collecting paddle-bfloat==0.1.7\n",
      "  Downloading paddle_bfloat-0.1.7-cp39-cp39-win_amd64.whl (39 kB)\n",
      "Requirement already satisfied: decorator in c:\\users\\lenovo\\anaconda3\\lib\\site-packages (from paddlepaddle) (5.1.1)\n",
      "Requirement already satisfied: protobuf<=3.20.0,>=3.1.0 in c:\\users\\lenovo\\anaconda3\\lib\\site-packages (from paddlepaddle) (3.18.1)\n",
      "Collecting astor\n",
      "  Downloading astor-0.8.1-py2.py3-none-any.whl (27 kB)\n",
      "Requirement already satisfied: opt-einsum==3.3.0 in c:\\users\\lenovo\\appdata\\roaming\\python\\python39\\site-packages (from paddlepaddle) (3.3.0)\n",
      "Requirement already satisfied: Pillow in c:\\users\\lenovo\\anaconda3\\lib\\site-packages (from paddlepaddle) (9.2.0)\n",
      "Requirement already satisfied: requests>=2.20.0 in c:\\users\\lenovo\\anaconda3\\lib\\site-packages (from paddlepaddle) (2.28.1)\n",
      "Requirement already satisfied: certifi>=2017.4.17 in c:\\users\\lenovo\\anaconda3\\lib\\site-packages (from requests>=2.20.0->paddlepaddle) (2022.9.14)\n",
      "Requirement already satisfied: charset-normalizer<3,>=2 in c:\\users\\lenovo\\anaconda3\\lib\\site-packages (from requests>=2.20.0->paddlepaddle) (2.0.4)\n",
      "Requirement already satisfied: idna<4,>=2.5 in c:\\users\\lenovo\\anaconda3\\lib\\site-packages (from requests>=2.20.0->paddlepaddle) (3.3)\n",
      "Requirement already satisfied: urllib3<1.27,>=1.21.1 in c:\\users\\lenovo\\anaconda3\\lib\\site-packages (from requests>=2.20.0->paddlepaddle) (1.26.11)\n",
      "Installing collected packages: paddle-bfloat, astor, paddlepaddle\n",
      "Successfully installed astor-0.8.1 paddle-bfloat-0.1.7 paddlepaddle-2.4.2\n"
     ]
    }
   ],
   "source": [
    "# !pip install paddlepaddle"
   ]
  },
  {
   "cell_type": "code",
   "execution_count": null,
   "metadata": {},
   "outputs": [],
   "source": []
  },
  {
   "cell_type": "code",
   "execution_count": 3,
   "metadata": {
    "_cell_guid": "b1076dfc-b9ad-4769-8c92-a6c4dae69d19",
    "_uuid": "8f2839f25d086af736a60e9eeb907d3b93b6e0e5",
    "execution": {
     "iopub.execute_input": "2023-02-18T08:38:06.280497Z",
     "iopub.status.busy": "2023-02-18T08:38:06.280063Z",
     "iopub.status.idle": "2023-02-18T08:38:06.290395Z",
     "shell.execute_reply": "2023-02-18T08:38:06.289474Z",
     "shell.execute_reply.started": "2023-02-18T08:38:06.280458Z"
    }
   },
   "outputs": [
    {
     "ename": "AttributeError",
     "evalue": "partially initialized module 'cv2' has no attribute 'gapi_wip_gst_GStreamerPipeline' (most likely due to a circular import)",
     "output_type": "error",
     "traceback": [
      "\u001b[1;31m---------------------------------------------------------------------------\u001b[0m",
      "\u001b[1;31mAttributeError\u001b[0m                            Traceback (most recent call last)",
      "\u001b[1;32m~\\AppData\\Local\\Temp\\ipykernel_8836\\2647458550.py\u001b[0m in \u001b[0;36m<module>\u001b[1;34m\u001b[0m\n\u001b[0;32m      1\u001b[0m \u001b[1;32mimport\u001b[0m \u001b[0mos\u001b[0m\u001b[1;33m\u001b[0m\u001b[1;33m\u001b[0m\u001b[0m\n\u001b[1;32m----> 2\u001b[1;33m \u001b[1;32mimport\u001b[0m \u001b[0mcv2\u001b[0m\u001b[1;33m\u001b[0m\u001b[1;33m\u001b[0m\u001b[0m\n\u001b[0m\u001b[0;32m      3\u001b[0m \u001b[1;32mimport\u001b[0m \u001b[0mnumpy\u001b[0m \u001b[1;32mas\u001b[0m \u001b[0mnp\u001b[0m\u001b[1;33m\u001b[0m\u001b[1;33m\u001b[0m\u001b[0m\n\u001b[0;32m      4\u001b[0m \u001b[1;32mimport\u001b[0m \u001b[0mpandas\u001b[0m \u001b[1;32mas\u001b[0m \u001b[0mpd\u001b[0m\u001b[1;33m\u001b[0m\u001b[1;33m\u001b[0m\u001b[0m\n\u001b[0;32m      5\u001b[0m \u001b[1;32mimport\u001b[0m \u001b[0mtensorflow\u001b[0m \u001b[1;32mas\u001b[0m \u001b[0mtf\u001b[0m\u001b[1;33m\u001b[0m\u001b[1;33m\u001b[0m\u001b[0m\n",
      "\u001b[1;32m~\\anaconda3\\lib\\site-packages\\cv2\\__init__.py\u001b[0m in \u001b[0;36m<module>\u001b[1;34m\u001b[0m\n\u001b[0;32m    179\u001b[0m \u001b[1;33m\u001b[0m\u001b[0m\n\u001b[0;32m    180\u001b[0m \u001b[1;33m\u001b[0m\u001b[0m\n\u001b[1;32m--> 181\u001b[1;33m \u001b[0mbootstrap\u001b[0m\u001b[1;33m(\u001b[0m\u001b[1;33m)\u001b[0m\u001b[1;33m\u001b[0m\u001b[1;33m\u001b[0m\u001b[0m\n\u001b[0m",
      "\u001b[1;32m~\\anaconda3\\lib\\site-packages\\cv2\\__init__.py\u001b[0m in \u001b[0;36mbootstrap\u001b[1;34m()\u001b[0m\n\u001b[0;32m    173\u001b[0m \u001b[1;33m\u001b[0m\u001b[0m\n\u001b[0;32m    174\u001b[0m     \u001b[1;32mfor\u001b[0m \u001b[0msubmodule\u001b[0m \u001b[1;32min\u001b[0m \u001b[0m__collect_extra_submodules\u001b[0m\u001b[1;33m(\u001b[0m\u001b[0mDEBUG\u001b[0m\u001b[1;33m)\u001b[0m\u001b[1;33m:\u001b[0m\u001b[1;33m\u001b[0m\u001b[1;33m\u001b[0m\u001b[0m\n\u001b[1;32m--> 175\u001b[1;33m         \u001b[1;32mif\u001b[0m \u001b[0m__load_extra_py_code_for_module\u001b[0m\u001b[1;33m(\u001b[0m\u001b[1;34m\"cv2\"\u001b[0m\u001b[1;33m,\u001b[0m \u001b[0msubmodule\u001b[0m\u001b[1;33m,\u001b[0m \u001b[0mDEBUG\u001b[0m\u001b[1;33m)\u001b[0m\u001b[1;33m:\u001b[0m\u001b[1;33m\u001b[0m\u001b[1;33m\u001b[0m\u001b[0m\n\u001b[0m\u001b[0;32m    176\u001b[0m             \u001b[1;32mif\u001b[0m \u001b[0mDEBUG\u001b[0m\u001b[1;33m:\u001b[0m \u001b[0mprint\u001b[0m\u001b[1;33m(\u001b[0m\u001b[1;34m\"Extra Python code for\"\u001b[0m\u001b[1;33m,\u001b[0m \u001b[0msubmodule\u001b[0m\u001b[1;33m,\u001b[0m \u001b[1;34m\"is loaded\"\u001b[0m\u001b[1;33m)\u001b[0m\u001b[1;33m\u001b[0m\u001b[1;33m\u001b[0m\u001b[0m\n\u001b[0;32m    177\u001b[0m \u001b[1;33m\u001b[0m\u001b[0m\n",
      "\u001b[1;32m~\\anaconda3\\lib\\site-packages\\cv2\\__init__.py\u001b[0m in \u001b[0;36m__load_extra_py_code_for_module\u001b[1;34m(base, name, enable_debug_print)\u001b[0m\n\u001b[0;32m     26\u001b[0m     \u001b[0mnative_module\u001b[0m \u001b[1;33m=\u001b[0m \u001b[0msys\u001b[0m\u001b[1;33m.\u001b[0m\u001b[0mmodules\u001b[0m\u001b[1;33m.\u001b[0m\u001b[0mpop\u001b[0m\u001b[1;33m(\u001b[0m\u001b[0mmodule_name\u001b[0m\u001b[1;33m,\u001b[0m \u001b[1;32mNone\u001b[0m\u001b[1;33m)\u001b[0m\u001b[1;33m\u001b[0m\u001b[1;33m\u001b[0m\u001b[0m\n\u001b[0;32m     27\u001b[0m     \u001b[1;32mtry\u001b[0m\u001b[1;33m:\u001b[0m\u001b[1;33m\u001b[0m\u001b[1;33m\u001b[0m\u001b[0m\n\u001b[1;32m---> 28\u001b[1;33m         \u001b[0mpy_module\u001b[0m \u001b[1;33m=\u001b[0m \u001b[0mimportlib\u001b[0m\u001b[1;33m.\u001b[0m\u001b[0mimport_module\u001b[0m\u001b[1;33m(\u001b[0m\u001b[0mmodule_name\u001b[0m\u001b[1;33m)\u001b[0m\u001b[1;33m\u001b[0m\u001b[1;33m\u001b[0m\u001b[0m\n\u001b[0m\u001b[0;32m     29\u001b[0m     \u001b[1;32mexcept\u001b[0m \u001b[0mImportError\u001b[0m \u001b[1;32mas\u001b[0m \u001b[0merr\u001b[0m\u001b[1;33m:\u001b[0m\u001b[1;33m\u001b[0m\u001b[1;33m\u001b[0m\u001b[0m\n\u001b[0;32m     30\u001b[0m         \u001b[1;32mif\u001b[0m \u001b[0menable_debug_print\u001b[0m\u001b[1;33m:\u001b[0m\u001b[1;33m\u001b[0m\u001b[1;33m\u001b[0m\u001b[0m\n",
      "\u001b[1;32m~\\anaconda3\\lib\\importlib\\__init__.py\u001b[0m in \u001b[0;36mimport_module\u001b[1;34m(name, package)\u001b[0m\n\u001b[0;32m    125\u001b[0m                 \u001b[1;32mbreak\u001b[0m\u001b[1;33m\u001b[0m\u001b[1;33m\u001b[0m\u001b[0m\n\u001b[0;32m    126\u001b[0m             \u001b[0mlevel\u001b[0m \u001b[1;33m+=\u001b[0m \u001b[1;36m1\u001b[0m\u001b[1;33m\u001b[0m\u001b[1;33m\u001b[0m\u001b[0m\n\u001b[1;32m--> 127\u001b[1;33m     \u001b[1;32mreturn\u001b[0m \u001b[0m_bootstrap\u001b[0m\u001b[1;33m.\u001b[0m\u001b[0m_gcd_import\u001b[0m\u001b[1;33m(\u001b[0m\u001b[0mname\u001b[0m\u001b[1;33m[\u001b[0m\u001b[0mlevel\u001b[0m\u001b[1;33m:\u001b[0m\u001b[1;33m]\u001b[0m\u001b[1;33m,\u001b[0m \u001b[0mpackage\u001b[0m\u001b[1;33m,\u001b[0m \u001b[0mlevel\u001b[0m\u001b[1;33m)\u001b[0m\u001b[1;33m\u001b[0m\u001b[1;33m\u001b[0m\u001b[0m\n\u001b[0m\u001b[0;32m    128\u001b[0m \u001b[1;33m\u001b[0m\u001b[0m\n\u001b[0;32m    129\u001b[0m \u001b[1;33m\u001b[0m\u001b[0m\n",
      "\u001b[1;32m~\\anaconda3\\lib\\site-packages\\cv2\\gapi\\__init__.py\u001b[0m in \u001b[0;36m<module>\u001b[1;34m\u001b[0m\n\u001b[0;32m    288\u001b[0m \u001b[1;33m\u001b[0m\u001b[0m\n\u001b[0;32m    289\u001b[0m \u001b[1;33m\u001b[0m\u001b[0m\n\u001b[1;32m--> 290\u001b[1;33m \u001b[0mcv\u001b[0m\u001b[1;33m.\u001b[0m\u001b[0mgapi\u001b[0m\u001b[1;33m.\u001b[0m\u001b[0mwip\u001b[0m\u001b[1;33m.\u001b[0m\u001b[0mGStreamerPipeline\u001b[0m \u001b[1;33m=\u001b[0m \u001b[0mcv\u001b[0m\u001b[1;33m.\u001b[0m\u001b[0mgapi_wip_gst_GStreamerPipeline\u001b[0m\u001b[1;33m\u001b[0m\u001b[1;33m\u001b[0m\u001b[0m\n\u001b[0m",
      "\u001b[1;31mAttributeError\u001b[0m: partially initialized module 'cv2' has no attribute 'gapi_wip_gst_GStreamerPipeline' (most likely due to a circular import)"
     ]
    }
   ],
   "source": [
    "import os\n",
    "import cv2\n",
    "import numpy as np\n",
    "import pandas as pd\n",
    "import tensorflow as tf\n",
    "# import pytesseract as pt\n",
    "import plotly.express as px\n",
    "import matplotlib.pyplot as plt\n",
    "import xml.etree.ElementTree as xet\n",
    "\n",
    "from glob import glob\n",
    "from skimage import io\n",
    "from shutil import copy\n",
    "from tensorflow.keras.models import Model\n",
    "from tensorflow.keras.callbacks import TensorBoard\n",
    "from sklearn.model_selection import train_test_split\n",
    "from tensorflow.keras.applications import InceptionResNetV2\n",
    "from tensorflow.keras.layers import Dense, Dropout, Flatten, Input\n",
    "from tensorflow.keras.preprocessing.image import load_img, img_to_array"
   ]
  },
  {
   "cell_type": "code",
   "execution_count": null,
   "metadata": {
    "execution": {
     "iopub.execute_input": "2023-02-18T08:38:06.292979Z",
     "iopub.status.busy": "2023-02-18T08:38:06.292359Z",
     "iopub.status.idle": "2023-02-18T08:38:06.625315Z",
     "shell.execute_reply": "2023-02-18T08:38:06.624227Z",
     "shell.execute_reply.started": "2023-02-18T08:38:06.292935Z"
    }
   },
   "outputs": [],
   "source": [
    "path = glob('./images/*.xml')\n",
    "labels_dict = dict(filepath=[],xmin=[],xmax=[],ymin=[],ymax=[])\n",
    "for filename in path:\n",
    "\n",
    "    info = xet.parse(filename)\n",
    "    root = info.getroot()\n",
    "    member_object = root.find('object')\n",
    "    labels_info = member_object.find('bndbox')\n",
    "    xmin = int(labels_info.find('xmin').text)\n",
    "    xmax = int(labels_info.find('xmax').text)\n",
    "    ymin = int(labels_info.find('ymin').text)\n",
    "    ymax = int(labels_info.find('ymax').text)\n",
    "\n",
    "    labels_dict['filepath'].append(filename)\n",
    "    labels_dict['xmin'].append(xmin)\n",
    "    labels_dict['xmax'].append(xmax)\n",
    "    labels_dict['ymin'].append(ymin)\n",
    "    labels_dict['ymax'].append(ymax)"
   ]
  },
  {
   "cell_type": "code",
   "execution_count": null,
   "metadata": {
    "execution": {
     "iopub.execute_input": "2023-02-18T08:38:06.627434Z",
     "iopub.status.busy": "2023-02-18T08:38:06.626777Z",
     "iopub.status.idle": "2023-02-18T08:38:06.645832Z",
     "shell.execute_reply": "2023-02-18T08:38:06.644786Z",
     "shell.execute_reply.started": "2023-02-18T08:38:06.627372Z"
    }
   },
   "outputs": [],
   "source": [
    "df = pd.DataFrame(labels_dict)\n",
    "df.to_csv('labels.csv',index=False)\n",
    "df.head()"
   ]
  },
  {
   "cell_type": "code",
   "execution_count": null,
   "metadata": {
    "execution": {
     "iopub.execute_input": "2023-02-18T08:38:06.649991Z",
     "iopub.status.busy": "2023-02-18T08:38:06.649016Z",
     "iopub.status.idle": "2023-02-18T08:38:06.658481Z",
     "shell.execute_reply": "2023-02-18T08:38:06.657468Z",
     "shell.execute_reply.started": "2023-02-18T08:38:06.649954Z"
    }
   },
   "outputs": [],
   "source": [
    "filename = df['filepath'][0]\n",
    "def getFilename(filename):\n",
    "    filename_image = xet.parse(filename).getroot().find('filename').text\n",
    "    filepath_image = os.path.join('./images/',filename_image)\n",
    "    return filepath_image\n",
    "getFilename(filename)"
   ]
  },
  {
   "cell_type": "code",
   "execution_count": null,
   "metadata": {
    "execution": {
     "iopub.execute_input": "2023-02-18T08:38:06.660904Z",
     "iopub.status.busy": "2023-02-18T08:38:06.659860Z",
     "iopub.status.idle": "2023-02-18T08:38:06.787853Z",
     "shell.execute_reply": "2023-02-18T08:38:06.786843Z",
     "shell.execute_reply.started": "2023-02-18T08:38:06.660819Z"
    }
   },
   "outputs": [],
   "source": [
    "image_path = list(df['filepath'].apply(getFilename))\n",
    "image_path[:10]"
   ]
  },
  {
   "cell_type": "code",
   "execution_count": null,
   "metadata": {
    "execution": {
     "iopub.execute_input": "2023-02-18T08:38:06.790260Z",
     "iopub.status.busy": "2023-02-18T08:38:06.789559Z",
     "iopub.status.idle": "2023-02-18T08:38:08.814242Z",
     "shell.execute_reply": "2023-02-18T08:38:08.812881Z",
     "shell.execute_reply.started": "2023-02-18T08:38:06.790220Z"
    }
   },
   "outputs": [],
   "source": [
    "# #DATA VERIFICATION\n",
    "# file_path = image_path[87] #path of our image N2.jpeg\n",
    "# img = cv2.imread(file_path) #read the image\n",
    "# # xmin-1804/ymin-1734/xmax-2493/ymax-1882 \n",
    "# img = io.imread(file_path) #Read the image\n",
    "# fig = px.imshow(img)\n",
    "# fig.update_layout(width=600, height=500, margin=dict(l=10, r=10, b=10, t=10),xaxis_title='Figure 8 - N2.jpeg with bounding box')\n",
    "# fig.add_shape(type='rect',x0=1804, x1=2493, y0=1734, y1=1882, xref='x', yref='y',line_color='cyan')"
   ]
  },
  {
   "cell_type": "code",
   "execution_count": null,
   "metadata": {
    "execution": {
     "iopub.execute_input": "2023-02-18T08:38:08.817017Z",
     "iopub.status.busy": "2023-02-18T08:38:08.816240Z",
     "iopub.status.idle": "2023-02-18T08:38:14.372541Z",
     "shell.execute_reply": "2023-02-18T08:38:14.371465Z",
     "shell.execute_reply.started": "2023-02-18T08:38:08.816969Z"
    }
   },
   "outputs": [],
   "source": [
    "#DATA PROCESSING\n",
    "labels = df.iloc[:,1:].values\n",
    "data = []\n",
    "output = []\n",
    "for ind in range(len(image_path)):\n",
    "    image = image_path[ind]\n",
    "    img_arr = cv2.imread(image)\n",
    "    h,w,d = img_arr.shape\n",
    "    # Prepprocesing\n",
    "    load_image = load_img(image,target_size=(224,224))\n",
    "    load_image_arr = img_to_array(load_image)\n",
    "    norm_load_image_arr = load_image_arr/255.0 # Normalization\n",
    "    # Normalization to labels\n",
    "    xmin,xmax,ymin,ymax = labels[ind]\n",
    "    nxmin,nxmax = xmin/w,xmax/w\n",
    "    nymin,nymax = ymin/h,ymax/h\n",
    "    label_norm = (nxmin,nxmax,nymin,nymax) # Normalized output\n",
    "    # Append\n",
    "    data.append(norm_load_image_arr)\n",
    "    output.append(label_norm)"
   ]
  },
  {
   "cell_type": "code",
   "execution_count": null,
   "metadata": {
    "execution": {
     "iopub.execute_input": "2023-02-18T08:38:14.374649Z",
     "iopub.status.busy": "2023-02-18T08:38:14.374232Z",
     "iopub.status.idle": "2023-02-18T08:38:14.424303Z",
     "shell.execute_reply": "2023-02-18T08:38:14.423291Z",
     "shell.execute_reply.started": "2023-02-18T08:38:14.374605Z"
    }
   },
   "outputs": [],
   "source": [
    "# Convert data to array\n",
    "X = np.array(data,dtype=np.float32)\n",
    "y = np.array(output,dtype=np.float32)"
   ]
  },
  {
   "cell_type": "code",
   "execution_count": null,
   "metadata": {
    "execution": {
     "iopub.execute_input": "2023-02-18T08:38:14.429218Z",
     "iopub.status.busy": "2023-02-18T08:38:14.428828Z",
     "iopub.status.idle": "2023-02-18T08:38:14.476817Z",
     "shell.execute_reply": "2023-02-18T08:38:14.475593Z",
     "shell.execute_reply.started": "2023-02-18T08:38:14.429188Z"
    }
   },
   "outputs": [],
   "source": [
    "# Split the data into training and testing set using sklearn.\n",
    "x_train,x_test,y_train,y_test = train_test_split(X,y,train_size=0.8,random_state=0)\n",
    "x_train.shape,x_test.shape,y_train.shape,y_test.shape"
   ]
  },
  {
   "cell_type": "code",
   "execution_count": null,
   "metadata": {
    "execution": {
     "iopub.execute_input": "2023-02-18T08:38:14.479207Z",
     "iopub.status.busy": "2023-02-18T08:38:14.478792Z",
     "iopub.status.idle": "2023-02-18T08:38:14.685543Z",
     "shell.execute_reply": "2023-02-18T08:38:14.684473Z",
     "shell.execute_reply.started": "2023-02-18T08:38:14.479168Z"
    }
   },
   "outputs": [],
   "source": [
    "# parsing\n",
    "def parsing(path):\n",
    "    parser = xet.parse(path).getroot()\n",
    "    name = parser.find('filename').text\n",
    "    filename = f'./images/{name}'\n",
    "\n",
    "    # width and height\n",
    "    parser_size = parser.find('size')\n",
    "    width = int(parser_size.find('width').text)\n",
    "    height = int(parser_size.find('height').text)\n",
    "    \n",
    "    return filename, width, height\n",
    "df[['filename','width','height']] = df['filepath'].apply(parsing).apply(pd.Series)\n",
    "df.head()"
   ]
  },
  {
   "cell_type": "code",
   "execution_count": null,
   "metadata": {
    "execution": {
     "iopub.execute_input": "2023-02-18T08:38:14.688297Z",
     "iopub.status.busy": "2023-02-18T08:38:14.687632Z",
     "iopub.status.idle": "2023-02-18T08:38:14.711111Z",
     "shell.execute_reply": "2023-02-18T08:38:14.709954Z",
     "shell.execute_reply.started": "2023-02-18T08:38:14.688258Z"
    }
   },
   "outputs": [],
   "source": [
    "df['center_x'] = (df['xmax'] + df['xmin'])/(2*df['width'])\n",
    "df['center_y'] = (df['ymax'] + df['ymin'])/(2*df['height'])\n",
    "\n",
    "df['bb_width'] = (df['xmax'] - df['xmin'])/df['width']\n",
    "df['bb_height'] = (df['ymax'] - df['ymin'])/df['height']\n",
    "df.head()"
   ]
  },
  {
   "cell_type": "code",
   "execution_count": null,
   "metadata": {
    "execution": {
     "iopub.execute_input": "2023-02-18T08:38:14.713395Z",
     "iopub.status.busy": "2023-02-18T08:38:14.712965Z",
     "iopub.status.idle": "2023-02-18T08:38:15.686988Z",
     "shell.execute_reply": "2023-02-18T08:38:15.685771Z",
     "shell.execute_reply.started": "2023-02-18T08:38:14.713351Z"
    }
   },
   "outputs": [],
   "source": [
    "# !git clone https://github.com/ultralytics/yolov5"
   ]
  },
  {
   "cell_type": "code",
   "execution_count": null,
   "metadata": {
    "execution": {
     "iopub.execute_input": "2023-02-18T08:38:15.689611Z",
     "iopub.status.busy": "2023-02-18T08:38:15.688861Z",
     "iopub.status.idle": "2023-02-18T08:38:26.115497Z",
     "shell.execute_reply": "2023-02-18T08:38:26.114204Z",
     "shell.execute_reply.started": "2023-02-18T08:38:15.689568Z"
    }
   },
   "outputs": [],
   "source": [
    "# !pip install -r ./yolov5/requirements.txt"
   ]
  },
  {
   "cell_type": "code",
   "execution_count": null,
   "metadata": {
    "execution": {
     "iopub.execute_input": "2023-02-18T08:38:26.118400Z",
     "iopub.status.busy": "2023-02-18T08:38:26.117971Z",
     "iopub.status.idle": "2023-02-18T08:38:27.088528Z",
     "shell.execute_reply": "2023-02-18T08:38:27.087308Z",
     "shell.execute_reply.started": "2023-02-18T08:38:26.118350Z"
    }
   },
   "outputs": [],
   "source": [
    "# mkdir ./yolov5/data_images"
   ]
  },
  {
   "cell_type": "code",
   "execution_count": null,
   "metadata": {
    "execution": {
     "iopub.execute_input": "2023-02-18T08:38:27.091061Z",
     "iopub.status.busy": "2023-02-18T08:38:27.090383Z",
     "iopub.status.idle": "2023-02-18T08:38:28.206794Z",
     "shell.execute_reply": "2023-02-18T08:38:28.205485Z",
     "shell.execute_reply.started": "2023-02-18T08:38:27.091016Z"
    }
   },
   "outputs": [],
   "source": [
    "# mkdir ./yolov5/data_images/test/"
   ]
  },
  {
   "cell_type": "code",
   "execution_count": null,
   "metadata": {
    "execution": {
     "iopub.execute_input": "2023-02-18T08:38:28.209971Z",
     "iopub.status.busy": "2023-02-18T08:38:28.208825Z",
     "iopub.status.idle": "2023-02-18T08:38:29.175152Z",
     "shell.execute_reply": "2023-02-18T08:38:29.173897Z",
     "shell.execute_reply.started": "2023-02-18T08:38:28.209925Z"
    }
   },
   "outputs": [],
   "source": [
    "# mkdir ./yolov5/data_images/train/"
   ]
  },
  {
   "cell_type": "code",
   "execution_count": null,
   "metadata": {
    "execution": {
     "iopub.execute_input": "2023-02-18T08:38:29.177127Z",
     "iopub.status.busy": "2023-02-18T08:38:29.176799Z",
     "iopub.status.idle": "2023-02-18T08:38:29.183722Z",
     "shell.execute_reply": "2023-02-18T08:38:29.182530Z",
     "shell.execute_reply.started": "2023-02-18T08:38:29.177096Z"
    }
   },
   "outputs": [],
   "source": [
    "### split the data into train and test\n",
    "df_train = df.iloc[:200]\n",
    "df_test = df.iloc[200:]"
   ]
  },
  {
   "cell_type": "code",
   "execution_count": null,
   "metadata": {
    "execution": {
     "iopub.execute_input": "2023-02-18T08:38:29.185212Z",
     "iopub.status.busy": "2023-02-18T08:38:29.184780Z",
     "iopub.status.idle": "2023-02-18T08:38:29.484193Z",
     "shell.execute_reply": "2023-02-18T08:38:29.483052Z",
     "shell.execute_reply.started": "2023-02-18T08:38:29.185177Z"
    }
   },
   "outputs": [],
   "source": [
    "train_folder = './yolov5/data_images/train'\n",
    "\n",
    "values = df_train[['filename','center_x','center_y','bb_width','bb_height']].values\n",
    "for fname, x,y, w, h in values:\n",
    "    image_name = os.path.split(fname)[-1]\n",
    "    txt_name = os.path.splitext(image_name)[0]\n",
    "    \n",
    "    dst_image_path = os.path.join(train_folder,image_name)\n",
    "    dst_label_file = os.path.join(train_folder,txt_name+'.txt')\n",
    "    \n",
    "    # copy each image into the folder\n",
    "    copy(fname,dst_image_path)\n",
    "\n",
    "    # generate .txt which has label info\n",
    "    label_txt = f'0 {x} {y} {w} {h}'\n",
    "    with open(dst_label_file,mode='w') as f:\n",
    "        f.write(label_txt)\n",
    "        \n",
    "        f.close()\n",
    "\n",
    "test_folder = './yolov5/data_images/test'\n",
    "\n",
    "values = df_test[['filename','center_x','center_y','bb_width','bb_height']].values\n",
    "for fname, x,y, w, h in values:\n",
    "    image_name = os.path.split(fname)[-1]\n",
    "    txt_name = os.path.splitext(image_name)[0]\n",
    "    \n",
    "    dst_image_path = os.path.join(test_folder,image_name)\n",
    "    dst_label_file = os.path.join(test_folder,txt_name+'.txt')\n",
    "    \n",
    "    # copy each image into the folder\n",
    "    copy(fname,dst_image_path)\n",
    "\n",
    "    # generate .txt which has label info\n",
    "    label_txt = f'0 {x} {y} {w} {h}'\n",
    "    with open(dst_label_file,mode='w') as f:\n",
    "        f.write(label_txt)\n",
    "        \n",
    "        f.close()"
   ]
  },
  {
   "cell_type": "code",
   "execution_count": null,
   "metadata": {
    "execution": {
     "iopub.execute_input": "2023-02-18T08:38:29.486034Z",
     "iopub.status.busy": "2023-02-18T08:38:29.485625Z",
     "iopub.status.idle": "2023-02-18T08:38:29.494347Z",
     "shell.execute_reply": "2023-02-18T08:38:29.493193Z",
     "shell.execute_reply.started": "2023-02-18T08:38:29.485995Z"
    }
   },
   "outputs": [],
   "source": [
    "# import yaml\n",
    "# yaml_dict = {'train': 'data_images/train',   # path to the train folder\n",
    "#             'val': 'data_images/test', # path to the val folder\n",
    "#             'nc': 1,                             # number of classes\n",
    "#             'names': ['liscence_plate']}                # list of label names\n",
    "\n",
    "# with open(r'./yolov5/data.yaml', 'w') as file:\n",
    "#     documents = yaml.dump(yaml_dict, file)"
   ]
  },
  {
   "cell_type": "code",
   "execution_count": null,
   "metadata": {
    "execution": {
     "iopub.execute_input": "2023-02-18T08:38:29.496959Z",
     "iopub.status.busy": "2023-02-18T08:38:29.496125Z",
     "iopub.status.idle": "2023-02-18T08:38:30.517920Z",
     "shell.execute_reply": "2023-02-18T08:38:30.516685Z",
     "shell.execute_reply.started": "2023-02-18T08:38:29.496897Z"
    }
   },
   "outputs": [],
   "source": [
    "!nvidia-smi"
   ]
  },
  {
   "cell_type": "code",
   "execution_count": null,
   "metadata": {
    "execution": {
     "iopub.execute_input": "2023-02-18T08:38:30.520541Z",
     "iopub.status.busy": "2023-02-18T08:38:30.519864Z",
     "iopub.status.idle": "2023-02-18T08:38:30.527898Z",
     "shell.execute_reply": "2023-02-18T08:38:30.525217Z",
     "shell.execute_reply.started": "2023-02-18T08:38:30.520496Z"
    }
   },
   "outputs": [],
   "source": [
    "# !pip install torch"
   ]
  },
  {
   "cell_type": "code",
   "execution_count": null,
   "metadata": {
    "execution": {
     "iopub.execute_input": "2023-02-18T08:38:30.529934Z",
     "iopub.status.busy": "2023-02-18T08:38:30.529526Z",
     "iopub.status.idle": "2023-02-18T08:38:40.091517Z",
     "shell.execute_reply": "2023-02-18T08:38:40.090246Z",
     "shell.execute_reply.started": "2023-02-18T08:38:30.529898Z"
    }
   },
   "outputs": [],
   "source": [
    "# !pip install GPUtil"
   ]
  },
  {
   "cell_type": "code",
   "execution_count": null,
   "metadata": {},
   "outputs": [],
   "source": [
    "# !pip install numba"
   ]
  },
  {
   "cell_type": "code",
   "execution_count": null,
   "metadata": {},
   "outputs": [],
   "source": [
    "tf.config.list_physical_devices('GPU')"
   ]
  },
  {
   "cell_type": "code",
   "execution_count": null,
   "metadata": {},
   "outputs": [],
   "source": [
    "# import tensorflow as tf\n",
    "# with tf.device('/gpu:1'):\n",
    "#     a = tf.constant(3.0)\n",
    "# with tf.compat.v1.Session() as sess:\n",
    "#     while True:\n",
    "#         print (sess.run(a))"
   ]
  },
  {
   "cell_type": "code",
   "execution_count": null,
   "metadata": {},
   "outputs": [],
   "source": [
    "import os\n",
    "os.environ['CUDA_VISIBLE_DEVICES'] = \"0,1\"  # Use the first GPU\n"
   ]
  },
  {
   "cell_type": "code",
   "execution_count": null,
   "metadata": {},
   "outputs": [],
   "source": [
    "print(tf.test.is_built_with_cuda())"
   ]
  },
  {
   "cell_type": "code",
   "execution_count": null,
   "metadata": {},
   "outputs": [],
   "source": [
    "!pip install GPUtil"
   ]
  },
  {
   "cell_type": "code",
   "execution_count": null,
   "metadata": {},
   "outputs": [],
   "source": [
    "import torch\n",
    "from GPUtil import showUtilization as gpu_usage\n",
    "from numba import cuda"
   ]
  },
  {
   "cell_type": "code",
   "execution_count": null,
   "metadata": {},
   "outputs": [],
   "source": [
    "import os\n",
    "\n",
    "print(os.environ.get('CUDA_VISIBLE_DEVICES'))"
   ]
  },
  {
   "cell_type": "code",
   "execution_count": null,
   "metadata": {
    "execution": {
     "iopub.execute_input": "2023-02-18T08:38:40.094203Z",
     "iopub.status.busy": "2023-02-18T08:38:40.093780Z",
     "iopub.status.idle": "2023-02-18T08:38:40.334321Z",
     "shell.execute_reply": "2023-02-18T08:38:40.333128Z",
     "shell.execute_reply.started": "2023-02-18T08:38:40.094158Z"
    }
   },
   "outputs": [],
   "source": [
    "# def free_gpu_cache():\n",
    "#     print(\"Initial GPU Usage\")\n",
    "#     gpu_usage()                             \n",
    "\n",
    "#     torch.cuda.empty_cache()\n",
    "\n",
    "#     cuda.select_device(1)\n",
    "#     cuda.close()\n",
    "#     cuda.select_device(1)\n",
    "\n",
    "#     print(\"GPU Usage after emptying the cache\")\n",
    "#     gpu_usage()\n",
    "\n",
    "# free_gpu_cache()  "
   ]
  },
  {
   "cell_type": "code",
   "execution_count": null,
   "metadata": {
    "execution": {
     "iopub.execute_input": "2023-02-18T08:38:40.340504Z",
     "iopub.status.busy": "2023-02-18T08:38:40.340150Z",
     "iopub.status.idle": "2023-02-18T08:38:41.546000Z",
     "shell.execute_reply": "2023-02-18T08:38:41.544709Z",
     "shell.execute_reply.started": "2023-02-18T08:38:40.340470Z"
    }
   },
   "outputs": [],
   "source": [
    "# !python ./yolov5/train.py --data ./data.yaml --cfg ./yolov5/models/yolov5s.yaml --batch-size 8 --name Model --epochs 100"
   ]
  },
  {
   "cell_type": "code",
   "execution_count": null,
   "metadata": {
    "execution": {
     "iopub.execute_input": "2023-02-18T08:38:41.550172Z",
     "iopub.status.busy": "2023-02-18T08:38:41.549835Z",
     "iopub.status.idle": "2023-02-18T08:38:41.555329Z",
     "shell.execute_reply": "2023-02-18T08:38:41.554213Z",
     "shell.execute_reply.started": "2023-02-18T08:38:41.550140Z"
    }
   },
   "outputs": [],
   "source": [
    "# import onnx\n",
    "# from onnx import utils\n",
    "\n",
    "# model = onnx.load('model.onnx')\n",
    "# model = utils.backward_compatible(model, target_version=11)\n",
    "# onnx.save(model, 'model_v11.onnx')\n"
   ]
  },
  {
   "cell_type": "code",
   "execution_count": null,
   "metadata": {
    "execution": {
     "iopub.execute_input": "2023-02-18T08:38:41.557644Z",
     "iopub.status.busy": "2023-02-18T08:38:41.557260Z",
     "iopub.status.idle": "2023-02-18T08:38:43.095369Z",
     "shell.execute_reply": "2023-02-18T08:38:43.093801Z",
     "shell.execute_reply.started": "2023-02-18T08:38:41.557609Z"
    }
   },
   "outputs": [],
   "source": [
    "# !python ./yolov5/export.py --weight ./yolov5/runs/train/Model/weights/best.pt --include torchscript onnx"
   ]
  },
  {
   "cell_type": "code",
   "execution_count": null,
   "metadata": {
    "execution": {
     "iopub.execute_input": "2023-02-18T08:38:43.097829Z",
     "iopub.status.busy": "2023-02-18T08:38:43.097109Z",
     "iopub.status.idle": "2023-02-18T08:38:44.562647Z",
     "shell.execute_reply": "2023-02-18T08:38:44.561355Z",
     "shell.execute_reply.started": "2023-02-18T08:38:43.097794Z"
    }
   },
   "outputs": [],
   "source": [
    "# !python ./yolov5/export.py --weights ./yolov5/runs/train/Model/weights/best.pt --include torchscript onnx --opset 11"
   ]
  },
  {
   "cell_type": "code",
   "execution_count": null,
   "metadata": {
    "execution": {
     "iopub.execute_input": "2023-02-18T08:38:44.565303Z",
     "iopub.status.busy": "2023-02-18T08:38:44.564545Z",
     "iopub.status.idle": "2023-02-18T08:38:44.571005Z",
     "shell.execute_reply": "2023-02-18T08:38:44.569791Z",
     "shell.execute_reply.started": "2023-02-18T08:38:44.565259Z"
    }
   },
   "outputs": [],
   "source": [
    "#predictions\n",
    "\n",
    "INPUT_WIDTH =  640\n",
    "INPUT_HEIGHT = 640"
   ]
  },
  {
   "cell_type": "code",
   "execution_count": null,
   "metadata": {
    "execution": {
     "iopub.execute_input": "2023-02-18T08:38:44.573207Z",
     "iopub.status.busy": "2023-02-18T08:38:44.572565Z",
     "iopub.status.idle": "2023-02-18T08:38:44.797639Z",
     "shell.execute_reply": "2023-02-18T08:38:44.796760Z",
     "shell.execute_reply.started": "2023-02-18T08:38:44.573172Z"
    }
   },
   "outputs": [],
   "source": [
    "# LOAD THE IMAGE\n",
    "img = io.imread('./TEST/N1.jpeg')\n",
    "\n",
    "fig = px.imshow(img)\n",
    "fig.update_layout(width=700, height=400, margin=dict(l=10, r=10, b=10, t=10))\n",
    "fig.update_xaxes(showticklabels=False).update_yaxes(showticklabels=False)\n",
    "fig.show()"
   ]
  },
  {
   "cell_type": "code",
   "execution_count": null,
   "metadata": {
    "execution": {
     "iopub.execute_input": "2023-02-18T08:38:44.799473Z",
     "iopub.status.busy": "2023-02-18T08:38:44.798850Z",
     "iopub.status.idle": "2023-02-18T08:38:44.854383Z",
     "shell.execute_reply": "2023-02-18T08:38:44.853076Z",
     "shell.execute_reply.started": "2023-02-18T08:38:44.799435Z"
    }
   },
   "outputs": [],
   "source": [
    "# LOAD YOLO MODEL\n",
    "net = cv2.dnn.readNetFromONNX('./yolov5/runs/train/Model/weights/best.onnx')\n",
    "net.setPreferableBackend(cv2.dnn.DNN_BACKEND_OPENCV)\n",
    "net.setPreferableTarget(cv2.dnn.DNN_TARGET_CPU)"
   ]
  },
  {
   "cell_type": "code",
   "execution_count": null,
   "metadata": {},
   "outputs": [],
   "source": [
    "def get_detections(img,net):\n",
    "    # 1.CONVERT IMAGE TO YOLO FORMAT\n",
    "    image = img.copy()\n",
    "    row, col, d = image.shape\n",
    "\n",
    "    max_rc = max(row,col)\n",
    "    input_image = np.zeros((max_rc,max_rc,3),dtype=np.uint8)\n",
    "    input_image[0:row,0:col] = image\n",
    "\n",
    "    # 2. GET PREDICTION FROM YOLO MODEL\n",
    "    blob = cv2.dnn.blobFromImage(input_image,1/255,(INPUT_WIDTH,INPUT_HEIGHT),swapRB=True,crop=False)\n",
    "    net.setInput(blob)\n",
    "    preds = net.forward()\n",
    "    detections = preds[0]\n",
    "    \n",
    "    return input_image, detections\n",
    "\n",
    "def non_maximum_supression(input_image,detections):\n",
    "    \n",
    "    # 3. FILTER DETECTIONS BASED ON CONFIDENCE AND PROBABILIY SCORE\n",
    "    \n",
    "    boxes = []\n",
    "    confidences = []\n",
    "\n",
    "    image_w, image_h = input_image.shape[:2]\n",
    "    x_factor = image_w/INPUT_WIDTH\n",
    "    y_factor = image_h/INPUT_HEIGHT\n",
    "\n",
    "    for i in range(len(detections)):\n",
    "        row = detections[i]\n",
    "        confidence = row[4] # confidence of detecting license plate\n",
    "        if confidence > 0.4:\n",
    "            class_score = row[5] # probability score of license plate\n",
    "            if class_score > 0.25:\n",
    "                cx, cy , w, h = row[0:4]\n",
    "\n",
    "                left = int((cx - 0.5*w)*x_factor)\n",
    "                top = int((cy-0.5*h)*y_factor)\n",
    "                width = int(w*x_factor)\n",
    "                height = int(h*y_factor)\n",
    "                box = np.array([left,top,width,height])\n",
    "\n",
    "                confidences.append(confidence)\n",
    "                boxes.append(box)\n",
    "\n",
    "    # 4.1 CLEAN\n",
    "    boxes_np = np.array(boxes).tolist()\n",
    "    confidences_np = np.array(confidences).tolist()\n",
    "    \n",
    "    # 4.2 NMS\n",
    "    index = cv2.dnn.NMSBoxes(boxes_np,confidences_np,0.25,0.45)\n",
    "    \n",
    "    return boxes_np, confidences_np, index\n",
    "\n",
    "def drawings(image,boxes_np,confidences_np,index):\n",
    "    # 5. Drawings\n",
    "    texts = []\n",
    "    for ind in index:\n",
    "        x,y,w,h =  boxes_np[ind]\n",
    "        bb_conf = confidences_np[ind]\n",
    "        conf_text = 'plate: {:.0f}%'.format(bb_conf*100)\n",
    "        license_text = extract_text(image,boxes_np[ind])\n",
    "        texts.append(license_text)\n",
    "\n",
    "\n",
    "        cv2.rectangle(image,(x,y),(x+w,y+h),(255,0,255),2)\n",
    "        cv2.rectangle(image,(x,y-30),(x+w,y),(255,0,255),-1)\n",
    "        cv2.rectangle(image,(x,y+h),(x+w,y+h+25),(0,0,0),-1)\n",
    "\n",
    "\n",
    "        cv2.putText(image,conf_text,(x,y-10),cv2.FONT_HERSHEY_SIMPLEX,0.7,(255,255,255),1)\n",
    "        cv2.putText(image,license_text,(x,y+h+27),cv2.FONT_HERSHEY_SIMPLEX,0.7,(0,255,0),1)\n",
    "\n",
    "    return image, texts"
   ]
  },
  {
   "cell_type": "code",
   "execution_count": null,
   "metadata": {},
   "outputs": [],
   "source": [
    "# predictions flow with return result\n",
    "def yolo_predictions(img,net):\n",
    "    # step-1: detections\n",
    "    input_image, detections = get_detections(img,net)\n",
    "    # step-2: NMS\n",
    "    boxes_np, confidences_np, index = non_maximum_supression(input_image, detections)\n",
    "    # step-3: Drawings\n",
    "    result_img, texts = drawings(img,boxes_np,confidences_np,index)\n",
    "    return result_img, texts"
   ]
  },
  {
   "cell_type": "code",
   "execution_count": null,
   "metadata": {},
   "outputs": [],
   "source": [
    "# # extrating text\n",
    "# def extract_text(image,bbox):\n",
    "#     x,y,w,h = bbox\n",
    "#     roi = image[y:y+h, x:x+w]\n",
    "    \n",
    "#     if 0 in roi.shape:\n",
    "#         return 'no number'\n",
    "    \n",
    "#     else:\n",
    "#         text = pt.image_to_string(roi)\n",
    "#         text = text.strip()\n",
    "        \n",
    "#         return text\n",
    "\n",
    "# import easyocr\n",
    "# from scipy.ndimage import gaussian_filter\n",
    "\n",
    "# # initialize the EasyOCR reader\n",
    "# reader = easyocr.Reader(['en'])\n",
    "\n",
    "# def extract_text(image,bbox):\n",
    "#     x,y,w,h = bbox\n",
    "#     roi = image[y:y+h, x:x+w]\n",
    "    \n",
    "#     plt.imshow(roi)\n",
    "#     plt.show()\n",
    "    \n",
    "#     if 0 in roi.shape:\n",
    "#         return 'no number'\n",
    "    \n",
    "#     else:\n",
    "#         # extract text using EasyOCR\n",
    "#         result = reader.readtext(roi)\n",
    "#         text = ' '.join([res[1] for res in result])\n",
    "#         text = text.strip()\n",
    "        \n",
    "#         return text\n",
    "\n",
    "\n",
    "from paddleocr import PaddleOCR\n",
    "import re\n",
    "\n",
    "def extract_text(image, bbox):\n",
    "    x,y,w,h = bbox\n",
    "    roi = image[y:y+h, x:x+w]\n",
    "    \n",
    "    plt.imshow(roi)\n",
    "    plt.show()\n",
    "    \n",
    "    if 0 in roi.shape:\n",
    "        return 'no number'\n",
    "    \n",
    "    else:\n",
    "        ocr = PaddleOCR()\n",
    "        roi = np.array(roi)\n",
    "        result = ocr.ocr(roi)\n",
    "        text = \"\"\n",
    "        for line in result:\n",
    "            text = text + line[1]\n",
    "        return text"
   ]
  },
  {
   "cell_type": "code",
   "execution_count": null,
   "metadata": {},
   "outputs": [],
   "source": [
    "# test\n",
    "img = io.imread('./TEST/TEST1.png')\n",
    "results, texts = yolo_predictions(img,net)\n",
    "texts"
   ]
  },
  {
   "cell_type": "code",
   "execution_count": null,
   "metadata": {},
   "outputs": [],
   "source": [
    "fig = px.imshow(img)\n",
    "fig.update_layout(width=700, height=400, margin=dict(l=10, r=10, b=10, t=10))\n",
    "fig.update_xaxes(showticklabels=False).update_yaxes(showticklabels=False)\n",
    "fig.show()"
   ]
  },
  {
   "cell_type": "code",
   "execution_count": null,
   "metadata": {},
   "outputs": [],
   "source": [
    "# import re\n",
    "# text_results = []\n",
    "\n",
    "# cap = cv2.VideoCapture('./TEST/T1.mp4')\n",
    "# while cap.isOpened():\n",
    "#     ret, frame = cap.read()\n",
    "\n",
    "#     if ret == False:\n",
    "#         print('Unable to read video')\n",
    "#         break\n",
    "        \n",
    "#     for i in range(5):\n",
    "#             ret = cap.grab()\n",
    "\n",
    "#     results, texts = yolo_predictions(frame,net)\n",
    "#     text_results.append(texts)\n",
    "#     print(texts)\n",
    "#     frame_rgb = cv2.cvtColor(frame, cv2.COLOR_BGR2RGB)\n",
    "#     plt.imshow(frame_rgb)\n",
    "#     plt.show()\n",
    "# #     if cv2.waitKey(30) == 27 :\n",
    "# #         break\n",
    "# #     if cv2.waitKey(1) == ord('q'):\n",
    "# #             break\n",
    "\n",
    "# # cv2.destroyAllWindows()\n",
    "# # cap.release()\n",
    "# print(list(valid_plates(text_results)))\n",
    "#-------------------------------------------------------------------------------------------------------\n",
    "\n",
    "# cap = cv2.VideoCapture('./TEST/T1.mp4')\n",
    "# while True:\n",
    "#     ret, frame = cap.read()\n",
    "\n",
    "#     if ret == False:\n",
    "#         print('Unable to read video')\n",
    "#         break\n",
    "    \n",
    "    \n",
    "#     results, texts = yolo_predictions(frame,net)\n",
    "#     text_results.append(texts)\n",
    "#     cv2.namedWindow('YOLO',cv2.WINDOW_KEEPRATIO)\n",
    "#     cv2.imshow('YOLO',results)\n",
    "    \n",
    "\n",
    "# cv2.destroyAllWindows()\n",
    "# cap.release()\n",
    "\n"
   ]
  },
  {
   "cell_type": "code",
   "execution_count": null,
   "metadata": {},
   "outputs": [],
   "source": [
    "def is_valid_plate_syntax(plate):\n",
    "    \n",
    "    return (len(plate) == 10 and plate[0].isalpha() and plate[1].isalpha() and plate[2].isnumeric() and plate[3].isnumeric() and\n",
    "            plate[4].isalpha() and plate[5].isalpha() and plate[6].isnumeric() and plate[7].isnumeric() and plate[8].isnumeric() and\n",
    "            plate[9].isnumeric())\n",
    "\n",
    "\n",
    "def valid_plates(results):\n",
    "    result_set = set()\n",
    "    for texts in results:\n",
    "        for text in texts:\n",
    "            text = text.upper()\n",
    "            text = text.replace(\".\", \"\")\n",
    "            text = text.replace(\",\",\"\")\n",
    "            if(len(text) > 0 and text[-1] == ']'):\n",
    "                text = text.replace(text[len(text)-1:], '1')\n",
    "            if (is_valid_plate_syntax(text)):\n",
    "                result_set.add(text)\n",
    "    return result_set"
   ]
  },
  {
   "cell_type": "code",
   "execution_count": null,
   "metadata": {},
   "outputs": [],
   "source": [
    "def read_img(path):\n",
    "    img = io.imread(path)\n",
    "    results, texts = yolo_predictions(img, net)\n",
    "    # print(texts)\n",
    "    texts.append(path)\n",
    "    return texts"
   ]
  },
  {
   "cell_type": "code",
   "execution_count": null,
   "metadata": {},
   "outputs": [],
   "source": [
    "def read_video(path):\n",
    "    text_results = []\n",
    "\n",
    "    cap = cv2.VideoCapture(path)\n",
    "    while cap.isOpened():\n",
    "        ret, frame = cap.read()\n",
    "        if ret == False:\n",
    "            print('Unable to read video')\n",
    "            break\n",
    "\n",
    "        for i in range(5):\n",
    "            ret = cap.grab()\n",
    "\n",
    "        results, texts = yolo_predictions(frame, net)\n",
    "        text_results.append(texts)\n",
    "        print(texts)\n",
    "    return list(valid_plates(text_results))"
   ]
  },
  {
   "cell_type": "code",
   "execution_count": null,
   "metadata": {},
   "outputs": [],
   "source": [
    "# print(read_video('./TEST/T1.mp4'))\n",
    "print(read_video('./TEST/irl.mov'))"
   ]
  },
  {
   "cell_type": "code",
   "execution_count": null,
   "metadata": {},
   "outputs": [],
   "source": []
  }
 ],
 "metadata": {
  "kernelspec": {
   "display_name": "nprvenv",
   "language": "python",
   "name": "nprvenv"
  },
  "language_info": {
   "codemirror_mode": {
    "name": "ipython",
    "version": 3
   },
   "file_extension": ".py",
   "mimetype": "text/x-python",
   "name": "python",
   "nbconvert_exporter": "python",
   "pygments_lexer": "ipython3",
   "version": "3.9.13"
  }
 },
 "nbformat": 4,
 "nbformat_minor": 4
}
